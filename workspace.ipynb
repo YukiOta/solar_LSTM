{
 "cells": [
  {
   "cell_type": "code",
   "execution_count": 1,
   "metadata": {},
   "outputs": [
    {
     "name": "stdout",
     "output_type": "stream",
     "text": [
      "The autoreload extension is already loaded. To reload it, use:\n",
      "  %reload_ext autoreload\n"
     ]
    }
   ],
   "source": [
    "%load_ext autoreload\n",
    "%autoreload 2"
   ]
  },
  {
   "cell_type": "code",
   "execution_count": 187,
   "metadata": {},
   "outputs": [],
   "source": [
    "import main_LSTM as LSTM"
   ]
  },
  {
   "cell_type": "code",
   "execution_count": 3,
   "metadata": {},
   "outputs": [],
   "source": [
    "import numpy as np\n",
    "import matplotlib.pyplot as plt\n",
    "from PIL import Image\n",
    "import Load_data as ld"
   ]
  },
  {
   "cell_type": "code",
   "execution_count": 185,
   "metadata": {},
   "outputs": [
    {
     "name": "stderr",
     "output_type": "stream",
     "text": [
      "Using TensorFlow backend.\n"
     ]
    }
   ],
   "source": [
    "from keras.models import load_model"
   ]
  },
  {
   "cell_type": "code",
   "execution_count": 46,
   "metadata": {
    "collapsed": true
   },
   "outputs": [],
   "source": [
    "def show_img(img):\n",
    "    plt.figure()\n",
    "    plt.imshow(img)\n",
    "    plt.show()"
   ]
  },
  {
   "cell_type": "code",
   "execution_count": 9,
   "metadata": {
    "scrolled": true
   },
   "outputs": [
    {
     "data": {
      "image/png": "[encoded data removed]",
      "text/plain": [
       "<matplotlib.figure.Figure at 0x1109e7518>"
      ]
     },
     "metadata": {},
     "output_type": "display_data"
    }
   ],
   "source": [
    "img_path = '../data/PV_IMAGE/201611/20161117_IT_resampled_northup/20161117T131759_IT.png'\n",
    "img_tmp = Image.open(img_path)\n",
    "img_tmp = img_tmp.resize((50, 50))\n",
    "img_tmp = np.asarray(img_tmp, dtype=np.uint8)\n",
    "show_img(img_tmp)"
   ]
  },
  {
   "cell_type": "code",
   "execution_count": 3,
   "metadata": {
    "collapsed": true
   },
   "outputs": [],
   "source": [
    "SAVE_dir = \"./RESULT/tmp\"\n",
    "def make_date():\n",
    "    '''\n",
    "    人工データの作成。\n",
    "    '''\n",
    "    # test\n",
    "    time = 15\n",
    "    row = 80\n",
    "    col = 80\n",
    "    filters = 1\n",
    "    training = 1200\n",
    "    train = np.zeros((training, time, row, col, 1), dtype=np.float)\n",
    "    gt = np.zeros((training, time, row, col, 1), dtype=np.float)\n",
    "    # for i in range(1000):\n",
    "    #    gt[::,0,0,0] = np.random.random()\n",
    "\n",
    "    for i in range(training):\n",
    "        n = np.random.randint(3, 8)\n",
    "        # n=15\n",
    "        for j in range(n):\n",
    "            xstart = np.random.randint(20, 60)\n",
    "            ystart = np.random.randint(20, 60)\n",
    "            directionx = np.random.randint(0, 3) - 1\n",
    "            directiony = np.random.randint(0, 3) - 1\n",
    "            directionx = np.random.randint(0, 3) - 1\n",
    "            gravity = 0  # np.random.randint(0,3) - 1\n",
    "            w = np.random.randint(2, 4)\n",
    "            # rint directionx,directiony\n",
    "            for t in range(time):\n",
    "                # w = 2\n",
    "                train[i, t, xstart + directionx * t - w:xstart + directionx * t + w,\n",
    "                      ystart + directiony * t + int(0.1 * gravity * t**2) - w:ystart + directiony * t + int(0.1 * gravity * t**2) + w, 0] += 1\n",
    "\n",
    "                # Make it more robust\n",
    "                # Noise\n",
    "                if np.random.randint(0, 2):\n",
    "                    train[i, t, xstart + directionx * t - w - 1:xstart + directionx * t + w + 1,\n",
    "                          ystart + directiony * t + int(0.1 * gravity * t**2) - w - 1:ystart + directiony * t + int(0.1 * gravity * t**2) + w + 1, 0] += 0.1\n",
    "\n",
    "                if np.random.randint(0, 2):\n",
    "                    train[i, t, xstart + directionx * t - w + 1:xstart + directionx * t + w - 1,\n",
    "                          ystart + directiony * t + int(0.1 * gravity * t**2) + w - 1:ystart + directiony * t + int(0.1 * gravity * t**2) + w - 1, 0] -= 0.1\n",
    "\n",
    "                gt[i, t, xstart + directionx * (t + 1) - w:xstart + directionx * (t + 1) + w,\n",
    "                   ystart + directiony * (t + 1) + int(0.1 * gravity * (t + 1)**2) - w:ystart + directiony * (t + 1) + int(0.1 * gravity * (t + 1)**2) + w, 0] += 1\n",
    "\n",
    "    train = train[::, ::, 20:60, 20:60, ::]\n",
    "    gt = gt[::, ::, 20:60, 20:60, ::]\n",
    "    train[train >= 1] = 1\n",
    "    gt[gt >= 1] = 1\n",
    "    return train, gt"
   ]
  },
  {
   "cell_type": "markdown",
   "metadata": {},
   "source": [
    "# convLSTMの重みを読み込む"
   ]
  },
  {
   "cell_type": "code",
   "execution_count": 183,
   "metadata": {},
   "outputs": [
    {
     "name": "stdout",
     "output_type": "stream",
     "text": [
      "---------- Image Load Done\n"
     ]
    }
   ],
   "source": [
    "# イメージディレクトリの読み込み\n",
    "img_dir = '../data/PV_IMAGE/201705/20170518_IT_resampled_northup/'\n",
    "img_0518 = ld.load_image(imgdir=img_dir, size=(50, 50), norm=True, median=True)"
   ]
  },
  {
   "cell_type": "code",
   "execution_count": 202,
   "metadata": {},
   "outputs": [],
   "source": [
    "# モデルの読み込み\n",
    "model = \"./RESULT/2017_11_21/model_20170518_mean_squared_error.h5\"\n",
    "model = load_model(model)"
   ]
  },
  {
   "cell_type": "code",
   "execution_count": 188,
   "metadata": {},
   "outputs": [
    {
     "name": "stdout",
     "output_type": "stream",
     "text": [
      "add new axis\n"
     ]
    }
   ],
   "source": [
    "array_steps = LSTM.array2LSTM(img_0518, num_frame=15)"
   ]
  },
  {
   "cell_type": "code",
   "execution_count": 203,
   "metadata": {},
   "outputs": [
    {
     "name": "stdout",
     "output_type": "stream",
     "text": [
      "frame:  7\n",
      "start predicting from 30 to 37\n",
      "(7, 50, 50, 3) (50, 50, 3)\n",
      "(8, 50, 50, 3) (50, 50, 3)\n",
      "(9, 50, 50, 3) (50, 50, 3)\n",
      "(10, 50, 50, 3) (50, 50, 3)\n",
      "(11, 50, 50, 3) (50, 50, 3)\n",
      "(12, 50, 50, 3) (50, 50, 3)\n",
      "(13, 50, 50, 3) (50, 50, 3)\n",
      "(14, 50, 50, 3) (50, 50, 3)\n",
      "(15, 50, 50, 3) (50, 50, 3)\n",
      "(16, 50, 50, 3) (50, 50, 3)\n",
      "(17, 50, 50, 3) (50, 50, 3)\n",
      "(18, 50, 50, 3) (50, 50, 3)\n",
      "(19, 50, 50, 3) (50, 50, 3)\n",
      "(20, 50, 50, 3) (50, 50, 3)\n",
      "(21, 50, 50, 3) (50, 50, 3)\n",
      "(22, 50, 50, 3) (50, 50, 3)\n"
     ]
    }
   ],
   "source": [
    "plt.figure()\n",
    "save_dir = './RESULT/tmp/'\n",
    "img_pred = LSTM.predict_convLSTM2D(model, img_0518, save_dir, date='0518', start=30, return_array=True)"
   ]
  },
  {
   "cell_type": "code",
   "execution_count": 193,
   "metadata": {},
   "outputs": [
    {
     "name": "stdout",
     "output_type": "stream",
     "text": [
      "(15, 50, 50, 3)\n",
      "0.205518\n"
     ]
    }
   ],
   "source": [
    "array_pred = np.asarray(img_pred)\n",
    "print(array_pred.shape)\n",
    "print(array_pred[0].mean())"
   ]
  },
  {
   "cell_type": "code",
   "execution_count": 93,
   "metadata": {
    "scrolled": true
   },
   "outputs": [
    {
     "data": {
      "image/png": "[encoded data removed]",
      "text/plain": [
       "<matplotlib.figure.Figure at 0x11bc26828>"
      ]
     },
     "metadata": {},
     "output_type": "display_data"
    },
    {
     "name": "stdout",
     "output_type": "stream",
     "text": [
      "[[[ 0.          0.22859979  0.38461548]\n",
      "  [ 0.00170401  0.05474179  0.        ]\n",
      "  [ 0.1500499   0.04966806  0.02561817]\n",
      "  ..., \n",
      "  [ 0.11391336  0.08147317  0.0349728 ]\n",
      "  [ 0.11019193  0.10175024  0.01065908]\n",
      "  [ 0.1480532   0.05788117  0.03768061]]\n",
      "\n",
      " [[ 0.11094323  0.22062072  0.43494922]\n",
      "  [ 0.          0.02938057  0.        ]\n",
      "  [ 0.16754779  0.06551587  0.07063323]\n",
      "  ..., \n",
      "  [ 0.11341082  0.0732026   0.05161913]\n",
      "  [ 0.08088844  0.09574128  0.01136369]\n",
      "  [ 0.04893251  0.04166789  0.        ]]\n",
      "\n",
      " [[ 0.1523678   0.14064798  0.42335123]\n",
      "  [ 0.          0.13085425  0.        ]\n",
      "  [ 0.16540179  0.09741953  0.07566112]\n",
      "  ..., \n",
      "  [ 0.13519192  0.09310445  0.08243553]\n",
      "  [ 0.09231725  0.08172978  0.01969321]\n",
      "  [ 0.06936087  0.0659847   0.00660897]]\n",
      "\n",
      " ..., \n",
      " [[ 0.24732596  0.10347828  0.32561433]\n",
      "  [ 0.          0.17209119  0.1130667 ]\n",
      "  [ 0.20488587  0.08963531  0.10502395]\n",
      "  ..., \n",
      "  [ 0.15738091  0.10457721  0.1264042 ]\n",
      "  [ 0.10031413  0.08365908  0.05323793]\n",
      "  [ 0.05816676  0.07685219  0.06075568]]\n",
      "\n",
      " [[ 0.15225297  0.17812958  0.35023618]\n",
      "  [ 0.          0.06347704  0.12413805]\n",
      "  [ 0.175234    0.06033763  0.        ]\n",
      "  ..., \n",
      "  [ 0.12518977  0.06644266  0.03792214]\n",
      "  [ 0.11558643  0.13761631  0.02804074]\n",
      "  [ 0.08918415  0.12040959  0.04627037]]\n",
      "\n",
      " [[ 0.45240712  0.16330346  0.37950605]\n",
      "  [ 0.          0.30205166  0.44544625]\n",
      "  [ 0.05732017  0.12986219  0.18446481]\n",
      "  ..., \n",
      "  [ 0.11045617  0.13923067  0.16317521]\n",
      "  [ 0.12659059  0.13444954  0.12453061]\n",
      "  [ 0.04010084  0.08738041  0.09836722]]]\n"
     ]
    }
   ],
   "source": [
    "tmp = array_pred[10]\n",
    "# tmp = tmp[0:1, 0:1, :]\n",
    "# tmp[tmp <= 0] = 0\n",
    "tmp.shape\n",
    "show_img(tmp)\n",
    "print(tmp)"
   ]
  },
  {
   "cell_type": "code",
   "execution_count": 207,
   "metadata": {},
   "outputs": [
    {
     "data": {
      "text/plain": [
       "(280, 50, 50, 3)"
      ]
     },
     "execution_count": 207,
     "metadata": {},
     "output_type": "execute_result"
    }
   ],
   "source": []
  },
  {
   "cell_type": "markdown",
   "metadata": {},
   "source": [
    "# videoの作成"
   ]
  },
  {
   "cell_type": "code",
   "execution_count": 55,
   "metadata": {
    "collapsed": true
   },
   "outputs": [],
   "source": [
    "import skvideo.io\n",
    "import numpy as np\n",
    "import os\n",
    "from PIL import Image\n",
    "\n",
    "import matplotlib.pyplot as plt\n",
    "import matplotlib.animation as animation"
   ]
  },
  {
   "cell_type": "code",
   "execution_count": 199,
   "metadata": {},
   "outputs": [],
   "source": [
    "# file listの並び替え\n",
    "path = './RESULT/tmp/'\n",
    "file_list = os.listdir(path)\n",
    "animate_list = []\n",
    "append = animate_list.append\n",
    "for filename in file_list:\n",
    "    if filename.startswith('animate'):\n",
    "        append(filename)\n",
    "animate_list.sort(key=lambda x:int(x.split('_')[2].split('.')[0]))"
   ]
  },
  {
   "cell_type": "code",
   "execution_count": 201,
   "metadata": {
    "scrolled": false
   },
   "outputs": [],
   "source": [
    "# 画像を作る\n",
    "im_list = []\n",
    "append = im_list.append\n",
    "fig = plt.figure()\n",
    "ax = plt.subplot(1, 1, 1)\n",
    "ax.spines['right'].set_color('None')\n",
    "ax.spines['top'].set_color('None')\n",
    "ax.spines['left'].set_color('None')\n",
    "ax.spines['bottom'].set_color('None')\n",
    "ax.tick_params(axis='x', which='both', top='off', bottom='off', labelbottom='off')\n",
    "ax.tick_params(axis='y', which='both', left='off', right='off', labelleft='off')\n",
    "\n",
    "def update(i, fig_title, animate_list):\n",
    "    if i != 0:\n",
    "        plt.cla()\n",
    "    imgfile = animate_list[i]\n",
    "    img_path = os.path.join(path, imgfile)\n",
    "    img = Image.open(img_path)\n",
    "    plt.imshow(img)\n",
    "    plt.title(fig_title + str(i+1))\n",
    "    \n",
    "ani = animation.FuncAnimation(fig, update, fargs=('Logloss at TIME:  ', animate_list), interval=300, frames=15)\n",
    "\n",
    "# GIFの書き出し\n",
    "# ani = animation.ArtistAnimation(fig, im_list, interval=200, repeat_delay=1000)\n",
    "ani.save('test.gif', writer='imagemagick')"
   ]
  }
 ],
 "metadata": {
  "kernelspec": {
   "display_name": "Python 3",
   "language": "python",
   "name": "python3"
  },
  "language_info": {
   "codemirror_mode": {
    "name": "ipython",
    "version": 3
   },
   "file_extension": ".py",
   "mimetype": "text/x-python",
   "name": "python",
   "nbconvert_exporter": "python",
   "pygments_lexer": "ipython3",
   "version": "3.5.2"
  }
 },
 "nbformat": 4,
 "nbformat_minor": 2
}
